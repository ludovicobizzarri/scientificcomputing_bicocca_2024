{
 "cells": [
  {
   "cell_type": "code",
   "execution_count": 13,
   "metadata": {},
   "outputs": [],
   "source": [
    "import numpy as np\n",
    "import matplotlib.pyplot as plt"
   ]
  },
  {
   "cell_type": "markdown",
   "metadata": {},
   "source": [
    "# Q4. Bootstrap"
   ]
  },
  {
   "cell_type": "code",
   "execution_count": 38,
   "metadata": {},
   "outputs": [
    {
     "data": {
      "image/png": "[encoded data removed]",
      "text/plain": [
       "<Figure size 504x504 with 1 Axes>"
      ]
     },
     "metadata": {
      "needs_background": "light"
     },
     "output_type": "display_data"
    }
   ],
   "source": [
    "distr = np.random.normal(0,1,1000)  # main distribution\n",
    "outliers = np.random.normal(0,10,10) # outliers\n",
    "\n",
    "data = np.concatenate((distr,outliers)) # concatenate the two arrays\n",
    "\n",
    "np.random.shuffle(data) # shuffle the data array\n",
    "\n",
    "fig = plt.figure(figsize=(7,7))\n",
    "\n",
    "plt.hist(data,bins=50)\n",
    "plt.xlabel('data')\n",
    "plt.ylabel('counts')\n",
    "plt.title('Data histogram')\n",
    "plt.show()"
   ]
  },
  {
   "cell_type": "code",
   "execution_count": 65,
   "metadata": {},
   "outputs": [
    {
     "data": {
      "text/plain": [
       "<matplotlib.legend.Legend at 0x23a79202df0>"
      ]
     },
     "execution_count": 65,
     "metadata": {},
     "output_type": "execute_result"
    },
    {
     "data": {
      "image/png": "[encoded data removed]",
      "text/plain": [
       "<Figure size 504x504 with 1 Axes>"
      ]
     },
     "metadata": {
      "needs_background": "light"
     },
     "output_type": "display_data"
    }
   ],
   "source": [
    "N_bs = 100\n",
    "bs_sample = 10\n",
    "\n",
    "mean = np.zeros(N_bs)\n",
    "\n",
    "for n in range(N_bs):\n",
    "    resample = np.random.choice(data,bs_sample,replace=True)\n",
    "    mean[n] = np.mean(resample)\n",
    "\n",
    "perc_2_5 = np.percentile(mean,2.5)\n",
    "perc_97_5 = np.percentile(mean,97.5)\n",
    "\n",
    "# plot\n",
    "fig = plt.figure(figsize=(7,7))\n",
    "\n",
    "mean_hist = plt.hist(mean,bins=20,label='means')\n",
    "plt.vlines(perc_2_5,0,max(mean_hist[0]),color='red',label=r'$95\\%$ confidence level')\n",
    "plt.vlines(perc_97_5,0,max(mean_hist[0]),color='red')\n",
    "plt.title(r'Bootstrapped mean $95\\%$ confidence level')\n",
    "plt.xlabel('Mean')\n",
    "plt.ylabel('Counts')\n",
    "plt.legend()"
   ]
  },
  {
   "cell_type": "code",
   "execution_count": null,
   "metadata": {},
   "outputs": [],
   "source": []
  },
  {
   "cell_type": "markdown",
   "metadata": {},
   "source": [
    "# Q3. Standard deviation"
   ]
  },
  {
   "cell_type": "code",
   "execution_count": 66,
   "metadata": {},
   "outputs": [],
   "source": [
    "def compute_std(x):\n",
    "    \n",
    "    # compute the avg\n",
    "    tot_sum = 0\n",
    "    \n",
    "    for i in range(len(x)):\n",
    "        tot_sum += x[i]\n",
    "        \n",
    "    avg = tot_sum/len(x)\n",
    "    \n",
    "    # compute std:\n",
    "    squared_res = 0\n",
    "    for i in range(len(x)):\n",
    "        squared_res += (x[i]-avg)**2\n",
    "        \n",
    "    var = squared_res/len(x)\n",
    "    std = np.sqrt(var)\n",
    "    \n",
    "    return std"
   ]
  },
  {
   "cell_type": "code",
   "execution_count": 67,
   "metadata": {},
   "outputs": [],
   "source": [
    "import time"
   ]
  },
  {
   "cell_type": "code",
   "execution_count": 71,
   "metadata": {},
   "outputs": [
    {
     "name": "stdout",
     "output_type": "stream",
     "text": [
      "Computed std: 1.187 in 0.0020 s\n",
      "Computed std: 1.187 in 0.0010 s\n"
     ]
    }
   ],
   "source": [
    "# test my function\n",
    "time0 = time.time()\n",
    "my_std = compute_std(data)\n",
    "time1 = time.time()\n",
    "my_deltaT = time1-time0\n",
    "\n",
    "print('Computed std: %.3f in %.4f s'%(my_std,my_deltaT))\n",
    "\n",
    "# test np.std\n",
    "time2 = time.time()\n",
    "np_std = np.std(data)\n",
    "time3 = time.time()\n",
    "np_deltaT = time3-time2\n",
    "\n",
    "print('Computed std: %.3f in %.4f s'%(np_std,np_deltaT))"
   ]
  }
 ],
 "metadata": {
  "kernelspec": {
   "display_name": "Python 3",
   "language": "python",
   "name": "python3"
  },
  "language_info": {
   "codemirror_mode": {
    "name": "ipython",
    "version": 3
   },
   "file_extension": ".py",
   "mimetype": "text/x-python",
   "name": "python",
   "nbconvert_exporter": "python",
   "pygments_lexer": "ipython3",
   "version": "3.8.5"
  }
 },
 "nbformat": 4,
 "nbformat_minor": 4
}
