{
 "cells": [
  {
   "cell_type": "code",
   "execution_count": 1,
   "metadata": {},
   "outputs": [],
   "source": [
    "import numpy as np\n",
    "import matplotlib.pyplot as plt"
   ]
  },
  {
   "cell_type": "markdown",
   "metadata": {},
   "source": [
    "# Ex.1 (Q4): Bootstrap"
   ]
  },
  {
   "cell_type": "markdown",
   "metadata": {},
   "source": [
    "Bootstrapping is a prominent statistical technique to estimate errors when you're stuck and don't know what else to do.\n",
    "\n",
    "Generate a 1D array (say from a Gaussian, but then add some outliers for fun). Compute the bootstrapped 95% confidence intervals for the mean of that array (i.e., resample the elements of an array with replacement N times, compute the mean of each sample, and then compute percentiles over the means)."
   ]
  },
  {
   "cell_type": "code",
   "execution_count": 2,
   "metadata": {},
   "outputs": [
    {
     "data": {
      "image/png": "[encoded data removed]",
      "text/plain": [
       "<Figure size 504x504 with 1 Axes>"
      ]
     },
     "metadata": {
      "needs_background": "light"
     },
     "output_type": "display_data"
    }
   ],
   "source": [
    "distr = np.random.normal(0,1,1000)  # main distribution\n",
    "outliers = np.random.normal(0,10,10) # outliers\n",
    "\n",
    "data = np.concatenate((distr,outliers)) # concatenate the two arrays\n",
    "\n",
    "np.random.shuffle(data) # shuffle the data array\n",
    "\n",
    "fig = plt.figure(figsize=(7,7))\n",
    "\n",
    "plt.hist(data,bins=50)\n",
    "plt.xlabel('data')\n",
    "plt.ylabel('counts')\n",
    "plt.title('Data histogram')\n",
    "plt.show()"
   ]
  },
  {
   "cell_type": "code",
   "execution_count": 3,
   "metadata": {},
   "outputs": [
    {
     "data": {
      "text/plain": [
       "<matplotlib.legend.Legend at 0x158586a51c0>"
      ]
     },
     "execution_count": 3,
     "metadata": {},
     "output_type": "execute_result"
    },
    {
     "data": {
      "image/png": "[encoded data removed]",
      "text/plain": [
       "<Figure size 504x504 with 1 Axes>"
      ]
     },
     "metadata": {
      "needs_background": "light"
     },
     "output_type": "display_data"
    }
   ],
   "source": [
    "N_bs = 100\n",
    "bs_sample = 10\n",
    "\n",
    "mean = np.zeros(N_bs)\n",
    "\n",
    "for n in range(N_bs):\n",
    "    resample = np.random.choice(data,bs_sample,replace=True)\n",
    "    mean[n] = np.mean(resample)\n",
    "\n",
    "perc_2_5 = np.percentile(mean,2.5)\n",
    "perc_97_5 = np.percentile(mean,97.5)\n",
    "\n",
    "# plot\n",
    "fig = plt.figure(figsize=(7,7))\n",
    "\n",
    "mean_hist = plt.hist(mean,bins=20,label='means')\n",
    "plt.vlines(perc_2_5,0,max(mean_hist[0]),color='red',label=r'$95\\%$ confidence level')\n",
    "plt.vlines(perc_97_5,0,max(mean_hist[0]),color='red')\n",
    "plt.title(r'Bootstrapped mean $95\\%$ confidence level')\n",
    "plt.xlabel('Mean')\n",
    "plt.ylabel('Counts')\n",
    "plt.legend()"
   ]
  },
  {
   "cell_type": "code",
   "execution_count": null,
   "metadata": {},
   "outputs": [],
   "source": []
  },
  {
   "cell_type": "markdown",
   "metadata": {},
   "source": [
    "# Ex. 2 (Q3): Standard deviation"
   ]
  },
  {
   "cell_type": "markdown",
   "metadata": {},
   "source": [
    "Numpy of course has a standard deviation function, np.std(), but here we'll write our own that works on a 1-d array (vector). The standard deviation is a measure of the \"width\" of the distribution of numbers in the vector.\n",
    "\n",
    "Given an array, and an average, the standard deviation is:\n",
    "\n",
    "$$ \\sigma = \\Bigl[ \\frac{1}{N} \\sum_{i=1}^N(a_i - \\bar{a})^2 \\Bigr]^{1/2}$$"
   ]
  },
  {
   "cell_type": "markdown",
   "metadata": {},
   "source": [
    "Write a function to calculate the standard deviation for an input array, a:\n",
    "\n",
    "* First compute the average of the elements in a to define \n",
    "* Next compute the sum over the squares of \n",
    "* Then divide the sum by the number of elements in the array\n",
    "* Finally take the square root (you can use np.sqrt())\n",
    "\n",
    "Test your function on a random array, and compare to the built-in np.std(). Check the runtime as well."
   ]
  },
  {
   "cell_type": "code",
   "execution_count": 17,
   "metadata": {},
   "outputs": [],
   "source": [
    "def compute_std(x):\n",
    "    \n",
    "    # compute the avg\n",
    "    tot_sum = 0\n",
    "    \n",
    "    for i in range(len(x)):\n",
    "        tot_sum += x[i]\n",
    "        \n",
    "    avg = tot_sum/len(x)\n",
    "    \n",
    "    # compute std:\n",
    "    squared_res = 0\n",
    "    for i in range(len(x)):\n",
    "        squared_res += (x[i]-avg)**2\n",
    "        \n",
    "    var = squared_res/len(x)\n",
    "    std = np.sqrt(var)\n",
    "    \n",
    "    return std"
   ]
  },
  {
   "cell_type": "code",
   "execution_count": 18,
   "metadata": {},
   "outputs": [],
   "source": [
    "import time"
   ]
  },
  {
   "cell_type": "code",
   "execution_count": 27,
   "metadata": {},
   "outputs": [
    {
     "name": "stdout",
     "output_type": "stream",
     "text": [
      "Computed std from function: 1.419 in 0.002042770 s\n",
      "Computed std from numpy: 1.419 in 0.000211954 s\n"
     ]
    }
   ],
   "source": [
    "# test my function\n",
    "time0 = time.time()\n",
    "my_std = compute_std(data)\n",
    "time1 = time.time()\n",
    "my_deltaT = time1-time0\n",
    "\n",
    "print('Computed std from function: %.3f in %.9f s'%(my_std,my_deltaT))\n",
    "\n",
    "# test np.std\n",
    "time2 = time.time()\n",
    "np_std = np.std(data)\n",
    "time3 = time.time()\n",
    "np_deltaT = time3-time2\n",
    "\n",
    "print('Computed std from numpy: %.3f in %.9f s'%(np_std,np_deltaT))"
   ]
  },
  {
   "cell_type": "code",
   "execution_count": null,
   "metadata": {},
   "outputs": [],
   "source": []
  }
 ],
 "metadata": {
  "kernelspec": {
   "display_name": "Python 3",
   "language": "python",
   "name": "python3"
  },
  "language_info": {
   "codemirror_mode": {
    "name": "ipython",
    "version": 3
   },
   "file_extension": ".py",
   "mimetype": "text/x-python",
   "name": "python",
   "nbconvert_exporter": "python",
   "pygments_lexer": "ipython3",
   "version": "3.8.5"
  }
 },
 "nbformat": 4,
 "nbformat_minor": 4
}
