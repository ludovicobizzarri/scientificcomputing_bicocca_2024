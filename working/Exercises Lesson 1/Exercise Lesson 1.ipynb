{
 "cells": [
  {
   "cell_type": "markdown",
   "metadata": {},
   "source": [
    "# Shopping cart"
   ]
  },
  {
   "cell_type": "code",
   "execution_count": 5,
   "metadata": {},
   "outputs": [],
   "source": [
    "# Inventory:\n",
    "\n",
    "INVENTORY_TEXT = \"\"\"\n",
    "apple, 0.60\n",
    "banana, 0.20\n",
    "grapefruit, 0.75\n",
    "grapes, 1.99\n",
    "kiwi, 0.50\n",
    "lemon, 0.20\n",
    "lime, 0.25\n",
    "mango, 1.50\n",
    "papaya, 2.95\n",
    "pineapple, 3.50\n",
    "blueberries, 1.99\n",
    "blackberries, 2.50\n",
    "peach, 0.50\n",
    "plum, 0.33\n",
    "clementine, 0.25\n",
    "cantaloupe, 3.25\n",
    "pear, 1.25\n",
    "quince, 0.45\n",
    "orange, 0.60\n",
    "\"\"\"\n",
    "\n",
    "INVENTORY = {}\n",
    "for line in INVENTORY_TEXT.splitlines():\n",
    "    if line.strip() == \"\":\n",
    "        continue\n",
    "    item, price = line.split(\",\")\n",
    "    INVENTORY[item] = float(price)"
   ]
  },
  {
   "cell_type": "code",
   "execution_count": 6,
   "metadata": {},
   "outputs": [
    {
     "data": {
      "text/plain": [
       "{'apple': 0.6,\n",
       " 'banana': 0.2,\n",
       " 'grapefruit': 0.75,\n",
       " 'grapes': 1.99,\n",
       " 'kiwi': 0.5,\n",
       " 'lemon': 0.2,\n",
       " 'lime': 0.25,\n",
       " 'mango': 1.5,\n",
       " 'papaya': 2.95,\n",
       " 'pineapple': 3.5,\n",
       " 'blueberries': 1.99,\n",
       " 'blackberries': 2.5,\n",
       " 'peach': 0.5,\n",
       " 'plum': 0.33,\n",
       " 'clementine': 0.25,\n",
       " 'cantaloupe': 3.25,\n",
       " 'pear': 1.25,\n",
       " 'quince': 0.45,\n",
       " 'orange': 0.6}"
      ]
     },
     "execution_count": 6,
     "metadata": {},
     "output_type": "execute_result"
    }
   ],
   "source": [
    "INVENTORY"
   ]
  },
  {
   "cell_type": "code",
   "execution_count": 7,
   "metadata": {},
   "outputs": [],
   "source": [
    "class Item:\n",
    "    \"\"\" an item to buy \"\"\"\n",
    "    \n",
    "    def __init__(self, name, quantity=1):\n",
    "        \"\"\"keep track of an item that is in our inventory\"\"\"\n",
    "        if name not in INVENTORY:\n",
    "            raise ValueError(\"invalid item name\")\n",
    "        self.name = name\n",
    "        self.quantity = quantity\n",
    "        \n",
    "    def __repr__(self):\n",
    "        return \"{}: {}\".format(self.name, self.quantity)\n",
    "        \n",
    "    def __eq__(self, other):\n",
    "        \"\"\"check if the items have the same name\"\"\"\n",
    "        return self.name == other.name\n",
    "    \n",
    "    def __add__(self, other):\n",
    "        \"\"\"add two items together if they are the same type\"\"\"\n",
    "        if self.name == other.name:\n",
    "            return Item(self.name, self.quantity + other.quantity)\n",
    "        else:\n",
    "            raise ValueError(\"names don't match\")\n",
    "    \n"
   ]
  },
  {
   "cell_type": "code",
   "execution_count": 79,
   "metadata": {},
   "outputs": [],
   "source": [
    "class ShoppingCart:\n",
    "    \n",
    "    def __init__(self):\n",
    "        # the list of items we control\n",
    "        self.items = []\n",
    "        \n",
    "    def subtotal(self):\n",
    "        \"\"\" return a subtotal of our items \"\"\"\n",
    "        subtotal = 0\n",
    "        for item in self.items:\n",
    "            single_item_cost = INVENTORY[item.name]\n",
    "            tot_item_cost = single_item_cost*item.quantity\n",
    "            subtotal += tot_item_cost\n",
    "            \n",
    "        print('Subtotal of our items:',subtotal)\n",
    "        \n",
    "\n",
    "    def add(self, name, quantity):\n",
    "        \"\"\" add an item to our cart -- the an item of the same name already\n",
    "        exists, then increment the quantity.  Otherwise, add a new item\n",
    "        to the cart with the desired quantity.\"\"\"\n",
    "        \n",
    "        new_item = Item(name,quantity)\n",
    "        \n",
    "        if(new_item in self.items):\n",
    "            for item in self.items:\n",
    "                if(item.name==new_item.name):\n",
    "                    item.quantity += quantity\n",
    "        else:\n",
    "            self.items.append(new_item)\n",
    "\n",
    "        \n",
    "    def remove(self, name):\n",
    "        \"\"\" remove all of item name from the cart \"\"\"\n",
    "        self.items.remove(Item(name))\n",
    "        \n",
    "    def report(self):\n",
    "        \"\"\" print a summary of the cart \"\"\"\n",
    "        for item in self.items:\n",
    "            print(f\"{item.name} : {item.quantity}\")"
   ]
  },
  {
   "cell_type": "code",
   "execution_count": 80,
   "metadata": {},
   "outputs": [],
   "source": [
    "sc = ShoppingCart()"
   ]
  },
  {
   "cell_type": "code",
   "execution_count": 81,
   "metadata": {},
   "outputs": [],
   "source": [
    "sc.add('orange',2)\n",
    "sc.add('apple',4)\n",
    "sc.add('banana',10)\n",
    "sc.add('kiwi',5)\n"
   ]
  },
  {
   "cell_type": "code",
   "execution_count": 82,
   "metadata": {},
   "outputs": [],
   "source": [
    "sc.add('orange',3)\n",
    "sc.add('kiwi',70)"
   ]
  },
  {
   "cell_type": "code",
   "execution_count": 83,
   "metadata": {},
   "outputs": [
    {
     "name": "stdout",
     "output_type": "stream",
     "text": [
      "orange : 5\n",
      "apple : 4\n",
      "banana : 10\n",
      "kiwi : 75\n"
     ]
    }
   ],
   "source": [
    "sc.report()"
   ]
  },
  {
   "cell_type": "code",
   "execution_count": 84,
   "metadata": {},
   "outputs": [
    {
     "name": "stdout",
     "output_type": "stream",
     "text": [
      "Subtotal of our items: 44.9\n"
     ]
    }
   ],
   "source": [
    "sc.subtotal()"
   ]
  },
  {
   "cell_type": "code",
   "execution_count": 85,
   "metadata": {},
   "outputs": [],
   "source": [
    "sc.remove('orange')"
   ]
  },
  {
   "cell_type": "code",
   "execution_count": 86,
   "metadata": {},
   "outputs": [
    {
     "name": "stdout",
     "output_type": "stream",
     "text": [
      "apple : 4\n",
      "banana : 10\n",
      "kiwi : 75\n"
     ]
    }
   ],
   "source": [
    "sc.report()"
   ]
  },
  {
   "cell_type": "code",
   "execution_count": 87,
   "metadata": {},
   "outputs": [
    {
     "name": "stdout",
     "output_type": "stream",
     "text": [
      "Subtotal of our items: 41.9\n"
     ]
    }
   ],
   "source": [
    "sc.subtotal()"
   ]
  },
  {
   "cell_type": "code",
   "execution_count": null,
   "metadata": {},
   "outputs": [],
   "source": []
  },
  {
   "cell_type": "markdown",
   "metadata": {},
   "source": [
    "# Calendar\n"
   ]
  },
  {
   "cell_type": "code",
   "execution_count": 338,
   "metadata": {},
   "outputs": [],
   "source": [
    "class Day:\n",
    "    \"\"\"a single day keeping track of the events scheduled\"\"\"\n",
    "    def __init__(self, month, day, year):\n",
    "        # store the month, day, and year as data in the class\n",
    "        \n",
    "        # keep track of the events\n",
    "        self.events = []\n",
    "    \n",
    "    def add_event(self, name, time=None, location=None,duration=None):\n",
    "        new_event = Event(name,time,location,duration)\n",
    "        self.events.append(new_event)\n",
    "    \n",
    "    def delete_event(self,name):\n",
    "            \n",
    "        for event in self.events:\n",
    "            if(event.name == name):\n",
    "                self.events.remove(event)\n",
    "                \n",
    "        #self.events.remove(Event(name,time_event,loc_event,duration_event))\n",
    "    \n",
    "    \n",
    "    def get_first_last_event(self):\n",
    "        # initialize variables\n",
    "        first = self.events[0].time\n",
    "        last = self.events[0].time\n",
    "        \n",
    "        for event in self.events[1:]:\n",
    "            if(event.time<first):\n",
    "                first = event.time\n",
    "                \n",
    "            if(event.time>last):\n",
    "                last = event.time\n",
    "            \n",
    "        print('Your first event is at %.2f ; Your last event is at %.2f'%(first,last))\n",
    "    \n",
    "    def see_events(self):\n",
    "        \"\"\" print a summary of the calendar \"\"\"\n",
    "        for event in self.events:\n",
    "            print(f\"%s at %.2f at %s for %.2f h\"%(event.name,event.time,event.location,event.duration))\n",
    "class Event:\n",
    "    \"\"\"a single event in our calendar\"\"\"\n",
    "    def __init__(self, name, time=9, location=None, duration=1):\n",
    "        self.name = name\n",
    "        self.time = time\n",
    "        self.location = location\n",
    "        self.duration = duration\n"
   ]
  },
  {
   "cell_type": "markdown",
   "metadata": {},
   "source": [
    "1) Create a full week of days in your calendar"
   ]
  },
  {
   "cell_type": "code",
   "execution_count": 339,
   "metadata": {},
   "outputs": [],
   "source": [
    "week_days = ['Monday','Tuesday','Wednesday','Thursday','Friday']\n",
    "next_week = {}\n",
    "\n",
    "for n,day in zip(range(25,30),week_days):\n",
    "    next_week.update({day: Day(11,n,2024)})\n"
   ]
  },
  {
   "cell_type": "markdown",
   "metadata": {},
   "source": [
    "2) Add an event every day at noon called 'lunch'"
   ]
  },
  {
   "cell_type": "code",
   "execution_count": 340,
   "metadata": {},
   "outputs": [],
   "source": [
    "for day in week_days:\n",
    "    next_week[day].add_event('Lunch',12,'University',1)"
   ]
  },
  {
   "cell_type": "code",
   "execution_count": 341,
   "metadata": {},
   "outputs": [
    {
     "name": "stdout",
     "output_type": "stream",
     "text": [
      "Lunch at 12.00 at University for 1.00 h\n"
     ]
    }
   ],
   "source": [
    "next_week['Monday'].see_events()"
   ]
  },
  {
   "cell_type": "markdown",
   "metadata": {},
   "source": [
    "3) Randomly add some other events to fill out your calendar"
   ]
  },
  {
   "cell_type": "code",
   "execution_count": 342,
   "metadata": {},
   "outputs": [],
   "source": [
    "next_week['Monday'].add_event('Training',7.30, 'Gym',2)\n",
    "next_week['Monday'].add_event('Class',10.30,'University',2)\n",
    "next_week['Monday'].add_event('Calcetto',19,'C.S. Pozzo',1)\n",
    "next_week['Tuesday'].add_event('Work',9,'University',8)\n",
    "next_week['Wednesday'].add_event('COSMOCal Telecon',9,'University',1)\n",
    "next_week['Wednesday'].add_event('SO Telecon',16,'University',2)\n",
    "next_week['Thursday'].add_event('Training',7.30, 'Gym',2)\n",
    "next_week['Tuesday'].add_event('Work',10,'University',8)\n",
    "next_week['Friday'].add_event('SO Telecon',16,'University',2)\n",
    "next_week['Friday'].add_event('Aperitif',18.30,'Carrefour',1)\n",
    "next_week['Friday'].add_event('Dinner',19.30,'Home',3)"
   ]
  },
  {
   "cell_type": "code",
   "execution_count": 343,
   "metadata": {},
   "outputs": [
    {
     "name": "stdout",
     "output_type": "stream",
     "text": [
      "Lunch at 12.00 at University for 1.00 h\n",
      "Training at 7.30 at Gym for 2.00 h\n",
      "Class at 10.30 at University for 2.00 h\n",
      "Calcetto at 19.00 at C.S. Pozzo for 1.00 h\n"
     ]
    }
   ],
   "source": [
    "next_week['Monday'].see_events()"
   ]
  },
  {
   "cell_type": "code",
   "execution_count": 344,
   "metadata": {},
   "outputs": [
    {
     "name": "stdout",
     "output_type": "stream",
     "text": [
      "Lunch at 12.00 at University for 1.00 h\n",
      "Work at 9.00 at University for 8.00 h\n",
      "Work at 10.00 at University for 8.00 h\n"
     ]
    }
   ],
   "source": [
    "next_week['Tuesday'].see_events()"
   ]
  },
  {
   "cell_type": "code",
   "execution_count": 345,
   "metadata": {},
   "outputs": [
    {
     "name": "stdout",
     "output_type": "stream",
     "text": [
      "Lunch at 12.00 at University for 1.00 h\n",
      "COSMOCal Telecon at 9.00 at University for 1.00 h\n",
      "SO Telecon at 16.00 at University for 2.00 h\n"
     ]
    }
   ],
   "source": [
    "next_week['Wednesday'].see_events()"
   ]
  },
  {
   "cell_type": "code",
   "execution_count": 346,
   "metadata": {},
   "outputs": [
    {
     "name": "stdout",
     "output_type": "stream",
     "text": [
      "Lunch at 12.00 at University for 1.00 h\n",
      "Training at 7.30 at Gym for 2.00 h\n"
     ]
    }
   ],
   "source": [
    "next_week['Thursday'].see_events()"
   ]
  },
  {
   "cell_type": "code",
   "execution_count": 347,
   "metadata": {},
   "outputs": [
    {
     "name": "stdout",
     "output_type": "stream",
     "text": [
      "Lunch at 12.00 at University for 1.00 h\n",
      "SO Telecon at 16.00 at University for 2.00 h\n",
      "Aperitif at 18.30 at Carrefour for 1.00 h\n",
      "Dinner at 19.30 at Home for 3.00 h\n"
     ]
    }
   ],
   "source": [
    "next_week['Friday'].see_events()"
   ]
  },
  {
   "cell_type": "code",
   "execution_count": null,
   "metadata": {},
   "outputs": [],
   "source": []
  },
  {
   "cell_type": "markdown",
   "metadata": {},
   "source": [
    "3.1) Remove an event"
   ]
  },
  {
   "cell_type": "code",
   "execution_count": 354,
   "metadata": {},
   "outputs": [],
   "source": [
    "next_week['Monday'].delete_event('Calcetto')"
   ]
  },
  {
   "cell_type": "code",
   "execution_count": 356,
   "metadata": {},
   "outputs": [
    {
     "name": "stdout",
     "output_type": "stream",
     "text": [
      "Lunch at 12.00 at University for 1.00 h\n",
      "Training at 7.30 at Gym for 2.00 h\n",
      "Class at 10.30 at University for 2.00 h\n"
     ]
    }
   ],
   "source": [
    "next_week['Monday'].see_events()"
   ]
  },
  {
   "cell_type": "code",
   "execution_count": null,
   "metadata": {},
   "outputs": [],
   "source": []
  },
  {
   "cell_type": "markdown",
   "metadata": {},
   "source": [
    "4) Write some code that tells you the start time of your first meeting and the end time of your last meeting (this is the length of your work day)"
   ]
  },
  {
   "cell_type": "code",
   "execution_count": 357,
   "metadata": {},
   "outputs": [
    {
     "name": "stdout",
     "output_type": "stream",
     "text": [
      "Your first event is at 7.30 ; Your last event is at 12.00\n"
     ]
    }
   ],
   "source": [
    "next_week['Monday'].get_first_last_event()"
   ]
  },
  {
   "cell_type": "code",
   "execution_count": 358,
   "metadata": {},
   "outputs": [
    {
     "name": "stdout",
     "output_type": "stream",
     "text": [
      "Your first event is at 9.00 ; Your last event is at 12.00\n"
     ]
    }
   ],
   "source": [
    "next_week['Tuesday'].get_first_last_event()"
   ]
  },
  {
   "cell_type": "code",
   "execution_count": 359,
   "metadata": {},
   "outputs": [
    {
     "name": "stdout",
     "output_type": "stream",
     "text": [
      "Your first event is at 9.00 ; Your last event is at 16.00\n"
     ]
    }
   ],
   "source": [
    "next_week['Wednesday'].get_first_last_event()"
   ]
  },
  {
   "cell_type": "code",
   "execution_count": 360,
   "metadata": {},
   "outputs": [
    {
     "name": "stdout",
     "output_type": "stream",
     "text": [
      "Your first event is at 7.30 ; Your last event is at 12.00\n"
     ]
    }
   ],
   "source": [
    "next_week['Thursday'].get_first_last_event()"
   ]
  },
  {
   "cell_type": "code",
   "execution_count": 361,
   "metadata": {},
   "outputs": [
    {
     "name": "stdout",
     "output_type": "stream",
     "text": [
      "Your first event is at 12.00 ; Your last event is at 19.30\n"
     ]
    }
   ],
   "source": [
    "next_week['Friday'].get_first_last_event()"
   ]
  },
  {
   "cell_type": "code",
   "execution_count": null,
   "metadata": {},
   "outputs": [],
   "source": []
  },
  {
   "cell_type": "code",
   "execution_count": null,
   "metadata": {},
   "outputs": [],
   "source": []
  }
 ],
 "metadata": {
  "kernelspec": {
   "display_name": "Python 3",
   "language": "python",
   "name": "python3"
  },
  "language_info": {
   "codemirror_mode": {
    "name": "ipython",
    "version": 3
   },
   "file_extension": ".py",
   "mimetype": "text/x-python",
   "name": "python",
   "nbconvert_exporter": "python",
   "pygments_lexer": "ipython3",
   "version": "3.8.5"
  }
 },
 "nbformat": 4,
 "nbformat_minor": 4
}
